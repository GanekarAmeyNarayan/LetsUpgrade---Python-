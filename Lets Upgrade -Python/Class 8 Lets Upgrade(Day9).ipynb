{
 "cells": [
  {
   "cell_type": "markdown",
   "metadata": {},
   "source": [
    "# Question No 1"
   ]
  },
  {
   "cell_type": "code",
   "execution_count": 3,
   "metadata": {},
   "outputs": [
    {
     "name": "stdout",
     "output_type": "stream",
     "text": [
      "Original list : [1, 2, 3, 6, 1, 2, 3, 4, 5]\n",
      "Original sub list : [1, 1, 5]\n",
      "it's a Match\n"
     ]
    }
   ],
   "source": [
    "\n",
    "one = [1,2,3,6,1,2,3,4,5] \n",
    "two = [1,1,5] \n",
    "result = set(x in one for x in two) \n",
    "flag = 0\n",
    "for ans in result: \n",
    "    if ans == False: \n",
    "        flag=1\n",
    "print (\"Original list : \" + str(one)) \n",
    "print (\"Original sub list : \" + str(two)) \n",
    "if flag==0: \n",
    "    print(\"it's a Match\") \n",
    "else: \n",
    "    print(\"it's Gone\") "
   ]
  },
  {
   "cell_type": "markdown",
   "metadata": {},
   "source": [
    "# Question no 2"
   ]
  },
  {
   "cell_type": "code",
   "execution_count": null,
   "metadata": {},
   "outputs": [],
   "source": [
    "def add(num1, num2): \n",
    "    return num1 + num2 \n",
    "\n",
    "def subtract(num1, num2): \n",
    "    return num1 - num2 \n",
    "\n",
    "def multiply(num1, num2): \n",
    "    return num1 * num2 \n",
    "\n",
    "def divide(num1, num2): \n",
    "    return num1 / num2 \n",
    " \n",
    "select = int(input(\"Select operations 1 for Add , 2 for Subtract , 3 for Multiply , 4 for Divide=\")) \n",
    "number_1 = int(input(\"Enter first number: \")) \n",
    "number_2 = int(input(\"Enter second number: \")) \n",
    "\n",
    "if select == 1: \n",
    "    print(number_1, \"+\", number_2, \"=\", \n",
    "                    add(number_1, number_2)) \n",
    "elif select == 2: \n",
    "    print(number_1, \"-\", number_2, \"=\", \n",
    "                    subtract(number_1, number_2)) \n",
    "elif select == 3: \n",
    "    print(number_1, \"*\", number_2, \"=\", \n",
    "                    multiply(number_1, number_2)) \n",
    "elif select == 4: \n",
    "    print(number_1, \"/\", number_2, \"=\", \n",
    "                    divide(number_1, number_2)) \n",
    "else: \n",
    "    print(\"Invalid input\") "
   ]
  },
  {
   "cell_type": "code",
   "execution_count": null,
   "metadata": {},
   "outputs": [],
   "source": []
  }
 ],
 "metadata": {
  "kernelspec": {
   "display_name": "Python 3",
   "language": "python",
   "name": "python3"
  },
  "language_info": {
   "codemirror_mode": {
    "name": "ipython",
    "version": 3
   },
   "file_extension": ".py",
   "mimetype": "text/x-python",
   "name": "python",
   "nbconvert_exporter": "python",
   "pygments_lexer": "ipython3",
   "version": "3.7.6"
  }
 },
 "nbformat": 4,
 "nbformat_minor": 4
}
