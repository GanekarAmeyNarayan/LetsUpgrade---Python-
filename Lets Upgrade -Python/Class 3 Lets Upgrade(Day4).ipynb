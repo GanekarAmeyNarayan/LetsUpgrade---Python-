{
 "cells": [
  {
   "cell_type": "markdown",
   "metadata": {},
   "source": [
    "# Question No. 1"
   ]
  },
  {
   "cell_type": "code",
   "execution_count": 24,
   "metadata": {},
   "outputs": [
    {
     "name": "stdout",
     "output_type": "stream",
     "text": [
      "It's Gone\n",
      "It's Gone\n",
      "It's Gone\n",
      "It's Gone\n",
      "It's Gone\n",
      "It's Gone\n",
      "It's Gone\n",
      "It's Gone\n"
     ]
    }
   ],
   "source": [
    "#output no 1\n",
    "listy = [1,5,6,4,1,2,3,5]\n",
    "sub_list = [1,1,5]\n",
    "for item in listy:\n",
    "    if item == sub_list:\n",
    "        sub_list.pop()\n",
    "    if len(sub_list)==0:\n",
    "            print(\" It's a Match \")\n",
    "    else:\n",
    "            print(\"It's Gone\")\n",
    "            "
   ]
  },
  {
   "cell_type": "code",
   "execution_count": 25,
   "metadata": {},
   "outputs": [
    {
     "name": "stdout",
     "output_type": "stream",
     "text": [
      " It's a Match \n",
      " It's a Match \n",
      " It's a Match \n",
      " It's a Match \n",
      " It's a Match \n",
      " It's a Match \n",
      " It's a Match \n",
      " It's a Match \n"
     ]
    }
   ],
   "source": [
    "#Output No 2 \n",
    "listy = [1,5,6,4,1,2,3,5]\n",
    "sub_list = [1,1,5]\n",
    "for item in listy:\n",
    "    if item == sub_list:\n",
    "        sub_list.pop()\n",
    "    if len(sub_list)>0:\n",
    "            print(\" It's a Match \")\n",
    "    else:\n",
    "            print(\"It's Gone\")\n",
    "            "
   ]
  },
  {
   "cell_type": "markdown",
   "metadata": {},
   "source": [
    "# Question No.2 "
   ]
  },
  {
   "cell_type": "code",
   "execution_count": 2,
   "metadata": {},
   "outputs": [
    {
     "name": "stdout",
     "output_type": "stream",
     "text": [
      "Enter The First Number :8\n",
      "Enter The Second Number :8\n",
      "1.Add\n",
      "2.Substract\n",
      "3.Multiply\n",
      "4.Divide\n",
      "Enter Choice(1-4):4\n",
      "1.0\n"
     ]
    }
   ],
   "source": [
    "def add():\n",
    "   c=a+b\n",
    "   print(c)\n",
    "def sub():\n",
    "   c=a-b\n",
    "   print(c)\n",
    "def mul():\n",
    "   c=a*b\n",
    "   print(c)\n",
    "def div():\n",
    "   c=a/b\n",
    "   print(c)\n",
    "\n",
    "a= int(input(\"Enter The First Number :\"))\n",
    "b= int(input(\"Enter The Second Number :\"))\n",
    "print(\"1.Add\")\n",
    "print(\"2.Substract\")\n",
    "print(\"3.Multiply\")\n",
    "print(\"4.Divide\")\n",
    "ch=int(input(\"Enter Choice(1-4):\"))\n",
    "if ch == 1:\n",
    "    add()\n",
    "elif ch == 2:\n",
    "    sub()\n",
    "elif ch == 3:\n",
    "    mul()    \n",
    "elif ch == 4:\n",
    "    div()\n",
    "else:\n",
    "    print(\"Invalid Choice\")"
   ]
  }
 ],
 "metadata": {
  "kernelspec": {
   "display_name": "Python 3",
   "language": "python",
   "name": "python3"
  },
  "language_info": {
   "codemirror_mode": {
    "name": "ipython",
    "version": 3
   },
   "file_extension": ".py",
   "mimetype": "text/x-python",
   "name": "python",
   "nbconvert_exporter": "python",
   "pygments_lexer": "ipython3",
   "version": "3.7.6"
  }
 },
 "nbformat": 4,
 "nbformat_minor": 4
}
