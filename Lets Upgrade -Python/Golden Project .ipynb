{
 "cells": [
  {
   "cell_type": "markdown",
   "metadata": {},
   "source": [
    "# Method No 1"
   ]
  },
  {
   "cell_type": "code",
   "execution_count": 5,
   "metadata": {},
   "outputs": [
    {
     "name": "stdout",
     "output_type": "stream",
     "text": [
      "Enter The Length Of Array5\n",
      "Enter elements in An Array\n",
      "1 2 3 4 5\n",
      "120\n"
     ]
    }
   ],
   "source": [
    "Mod = 1000000007\n",
    "\n",
    "def product(arr,n):\n",
    "    answer = 1\n",
    "    for i in range(0,n):\n",
    "        answer=(answer*arr[i]) % Mod\n",
    "    return answer\n",
    "\n",
    "n= int(input(\"Enter The Length Of Array\"))\n",
    "\n",
    "print(\"Enter elements in An Array\")\n",
    "arr = list(map(int,input().split()))\n",
    "print(product(arr,n))"
   ]
  },
  {
   "cell_type": "markdown",
   "metadata": {},
   "source": [
    "# Method No 2"
   ]
  },
  {
   "cell_type": "code",
   "execution_count": 8,
   "metadata": {},
   "outputs": [
    {
     "name": "stdout",
     "output_type": "stream",
     "text": [
      "Enter the Length Of Array = 5\n",
      "Enter the Value = 1\n",
      "Enter the Value = 2\n",
      "Enter the Value = 3\n",
      "Enter the Value = 4\n",
      "Enter the Value = 5\n",
      "120\n"
     ]
    }
   ],
   "source": [
    "from array import* \n",
    "arr=array('i',[])\n",
    "N=int(input(\"Enter the Length Of Array = \"))\n",
    "for i in range(0,N):\n",
    "    x= int(input(\"Enter the Value = \"))\n",
    "    arr.append(x)\n",
    "def product(arr,n):\n",
    "    answer=1\n",
    "    for i in range(0,N):\n",
    "        answer=(answer*arr[i])%1000000007\n",
    "    return answer\n",
    "print(product(arr,N))"
   ]
  },
  {
   "cell_type": "code",
   "execution_count": null,
   "metadata": {},
   "outputs": [],
   "source": []
  }
 ],
 "metadata": {
  "kernelspec": {
   "display_name": "Python 3",
   "language": "python",
   "name": "python3"
  },
  "language_info": {
   "codemirror_mode": {
    "name": "ipython",
    "version": 3
   },
   "file_extension": ".py",
   "mimetype": "text/x-python",
   "name": "python",
   "nbconvert_exporter": "python",
   "pygments_lexer": "ipython3",
   "version": "3.7.6"
  }
 },
 "nbformat": 4,
 "nbformat_minor": 4
}
