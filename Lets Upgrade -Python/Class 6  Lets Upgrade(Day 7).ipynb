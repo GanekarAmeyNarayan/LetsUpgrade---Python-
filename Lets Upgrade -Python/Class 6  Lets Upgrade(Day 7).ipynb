{
 "cells": [
  {
   "cell_type": "markdown",
   "metadata": {},
   "source": [
    "# Question No 1"
   ]
  },
  {
   "cell_type": "code",
   "execution_count": 1,
   "metadata": {},
   "outputs": [],
   "source": [
    "file = open(\"Amey.txt\",\"w\")\n",
    "\n",
    "file.write(\"I love FCS\")\n",
    "\n",
    "file.close()\n"
   ]
  },
  {
   "cell_type": "code",
   "execution_count": 14,
   "metadata": {},
   "outputs": [
    {
     "name": "stdout",
     "output_type": "stream",
     "text": [
      "In try block\n",
      "I love FCS\n",
      "In except block\n",
      "Can't write in read mode\n",
      "In finally block\n"
     ]
    }
   ],
   "source": [
    "try:\n",
    "  print(\"In try block\")\n",
    "  file = open(\"Amey.txt\",'r')\n",
    "  print(file.read())\n",
    "  writefile=file.write(\"I love Python\") # Not Executing this part\n",
    "  print(writefile) # Not Executing this part\n",
    "except:\n",
    "  print(\"In except block\")\n",
    "  print(\"Can't write in read mode\")\n",
    "finally:\n",
    "  print(\"In finally block\")\n",
    "  file.close()"
   ]
  },
  {
   "cell_type": "markdown",
   "metadata": {},
   "source": [
    "# Question No 2"
   ]
  },
  {
   "cell_type": "code",
   "execution_count": 12,
   "metadata": {},
   "outputs": [
    {
     "name": "stdout",
     "output_type": "stream",
     "text": [
      "Requirement already satisfied: pylint in c:\\users\\admin\\anaconda3\\lib\\site-packages (2.4.4)\n",
      "Requirement already satisfied: colorama; sys_platform == \"win32\" in c:\\users\\admin\\anaconda3\\lib\\site-packages (from pylint) (0.4.3)\n",
      "Requirement already satisfied: isort<5,>=4.2.5 in c:\\users\\admin\\anaconda3\\lib\\site-packages (from pylint) (4.3.21)\n",
      "Requirement already satisfied: mccabe<0.7,>=0.6 in c:\\users\\admin\\anaconda3\\lib\\site-packages (from pylint) (0.6.1)\n",
      "Requirement already satisfied: astroid<2.4,>=2.3.0 in c:\\users\\admin\\anaconda3\\lib\\site-packages (from pylint) (2.3.3)\n",
      "Requirement already satisfied: wrapt==1.11.* in c:\\users\\admin\\anaconda3\\lib\\site-packages (from astroid<2.4,>=2.3.0->pylint) (1.11.2)\n",
      "Requirement already satisfied: typed-ast<1.5,>=1.4.0; implementation_name == \"cpython\" and python_version < \"3.8\" in c:\\users\\admin\\anaconda3\\lib\\site-packages (from astroid<2.4,>=2.3.0->pylint) (1.4.1)\n",
      "Requirement already satisfied: lazy-object-proxy==1.4.* in c:\\users\\admin\\anaconda3\\lib\\site-packages (from astroid<2.4,>=2.3.0->pylint) (1.4.3)\n",
      "Requirement already satisfied: six~=1.12 in c:\\users\\admin\\anaconda3\\lib\\site-packages (from astroid<2.4,>=2.3.0->pylint) (1.14.0)\n",
      "Note: you may need to restart the kernel to use updated packages.\n"
     ]
    }
   ],
   "source": [
    " pip install pylint"
   ]
  },
  {
   "cell_type": "code",
   "execution_count": 19,
   "metadata": {},
   "outputs": [
    {
     "name": "stdout",
     "output_type": "stream",
     "text": [
      "Overwriting python_prime.py\n"
     ]
    }
   ],
   "source": [
    "%%writefile python_prime.py\n",
    "'''\n",
    "This is a Python program for checking if the Numbers is prime or not\n",
    "'''\n",
    "def is_prime(number):\n",
    "    '''\n",
    "    This function is to check if the no is prime or not\n",
    "    '''\n",
    "    if number > 1:\n",
    "        for i in range(2, number):\n",
    "            if (number%i) == 0:\n",
    "                return False\n",
    "                break\n",
    "        else:\n",
    "            return True\n",
    "    else:\n",
    "        return False\n",
    "        "
   ]
  },
  {
   "cell_type": "code",
   "execution_count": 20,
   "metadata": {},
   "outputs": [
    {
     "name": "stdout",
     "output_type": "stream",
     "text": [
      "************* Module python_prime\n",
      "python_prime.py:17:0: C0303: Trailing whitespace (trailing-whitespace)\n",
      "python_prime.py:12:16: W0101: Unreachable code (unreachable)\n",
      "\n",
      "------------------------------------------------------------------\n",
      "\n",
      "Your code has been rated at 7.50/10 (previous run: 7.50/10, +0.00)\n",
      "\n",
      "\n",
      "\n"
     ]
    }
   ],
   "source": [
    "! pylint python_prime.py"
   ]
  },
  {
   "cell_type": "code",
   "execution_count": null,
   "metadata": {},
   "outputs": [],
   "source": [
    "! python python_prime.py"
   ]
  },
  {
   "cell_type": "code",
   "execution_count": 1,
   "metadata": {},
   "outputs": [
    {
     "name": "stdout",
     "output_type": "stream",
     "text": [
      "Overwriting primes.py\n"
     ]
    }
   ],
   "source": [
    "%%writefile primes.py\n",
    "import unittest\n",
    "from python_prime import is_prime\n",
    "import prime\n",
    "\n",
    "class PrimesTestCase(unittest.TestCase):\n",
    "    \"\"\"\n",
    "    Tests for `python_primes.py`.\n",
    "    \"\"\"\n",
    "    def test_is_number_prime(self):\n",
    "        \"\"\"\n",
    "        Is number successfully determined to be prime?\n",
    "        \"\"\"\n",
    "        result = int(input(\"Enter number to check if the number is prime= \"))\n",
    "        self.assertTrue(is_prime(result))\n",
    "\n",
    "if __name__ == \"__main__\":\n",
    "    unittest.main()"
   ]
  },
  {
   "cell_type": "code",
   "execution_count": 2,
   "metadata": {},
   "outputs": [
    {
     "name": "stderr",
     "output_type": "stream",
     "text": [
      "Traceback (most recent call last):\n",
      "  File \"primes.py\", line 3, in <module>\n",
      "    import prime\n",
      "ModuleNotFoundError: No module named 'prime'\n"
     ]
    }
   ],
   "source": [
    "! python primes.py"
   ]
  },
  {
   "cell_type": "code",
   "execution_count": null,
   "metadata": {},
   "outputs": [],
   "source": []
  },
  {
   "cell_type": "code",
   "execution_count": null,
   "metadata": {},
   "outputs": [],
   "source": []
  }
 ],
 "metadata": {
  "kernelspec": {
   "display_name": "Python 3",
   "language": "python",
   "name": "python3"
  },
  "language_info": {
   "codemirror_mode": {
    "name": "ipython",
    "version": 3
   },
   "file_extension": ".py",
   "mimetype": "text/x-python",
   "name": "python",
   "nbconvert_exporter": "python",
   "pygments_lexer": "ipython3",
   "version": "3.7.6"
  }
 },
 "nbformat": 4,
 "nbformat_minor": 4
}
