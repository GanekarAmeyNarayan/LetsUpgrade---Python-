{
 "cells": [
  {
   "cell_type": "markdown",
   "metadata": {},
   "source": [
    "# Question No 1"
   ]
  },
  {
   "cell_type": "code",
   "execution_count": 1,
   "metadata": {},
   "outputs": [
    {
     "name": "stdout",
     "output_type": "stream",
     "text": [
      "Enter your marks78\n",
      "|-------|\n",
      "|   C   |\n",
      "|-------|\n"
     ]
    }
   ],
   "source": [
    "marks=int(input(\"Enter your marks\"))\n",
    "print(\"|-------|\")\n",
    "if marks > 90:\n",
    "  print(\"|   A   |\")\n",
    "  print(\"|-------|\")\n",
    "elif marks > 80 :\n",
    "  print(\"|   B   |\")\n",
    "  print(\"|-------|\")\n",
    "elif marks > 70 :\n",
    "  print(\"|   C   |\")\n",
    "  print(\"|-------|\")\n",
    "elif marks > 60 :\n",
    "  print(\"|   D   |\")\n",
    "  print(\"|-------|\")\n",
    "elif marks > 50 :\n",
    "  print(\"|   E   |\")\n",
    "  print(\"|-------|\")\n",
    "else :\n",
    "  print(\"|  FAIL |\")\n",
    "  print(\"|-------|\")"
   ]
  },
  {
   "cell_type": "markdown",
   "metadata": {},
   "source": [
    "# Question No.2"
   ]
  },
  {
   "cell_type": "code",
   "execution_count": 6,
   "metadata": {},
   "outputs": [
    {
     "name": "stdout",
     "output_type": "stream",
     "text": [
      "Guess Team India Score in 20-20 Cricket 56\n",
      "You are not a true Indian Fan! :P \n"
     ]
    }
   ],
   "source": [
    "guess=int(input(\"Guess Team India Score in 20-20 Cricket \"))\n",
    "randomscore=200\n",
    "if guess>250:\n",
    "  print(\"Reduce your expectation for 20-20 Cricket\")\n",
    "elif guess<10:\n",
    "  print(\"Increase your expectation for 20-20 Cricket\")\n",
    "elif guess < randomscore+10 and guess > randomscore-10:\n",
    "  print(\"Close By, you are True Indian Fan!\")\n",
    "else:\n",
    "  print(\"You are not a true Indian Fan! :P \")"
   ]
  },
  {
   "cell_type": "markdown",
   "metadata": {},
   "source": [
    "# Question No.3"
   ]
  },
  {
   "cell_type": "code",
   "execution_count": 3,
   "metadata": {},
   "outputs": [
    {
     "name": "stdout",
     "output_type": "stream",
     "text": [
      "length =  50\n",
      "Enter no of photos1\n",
      "dimensions of 1 photo\n",
      "Enter width of the photo12\n",
      "Enter height of the photo23\n",
      "UPLOAD ANOTHER\n",
      "------------------------------------\n"
     ]
    }
   ],
   "source": [
    "length=50\n",
    "print(\"length = \",length)\n",
    "photos=int(input(\"Enter no of photos\"))\n",
    "for i in range(photos):\n",
    "  print(\"dimensions of\",i+1,\"photo\")\n",
    "  width=int(input(\"Enter width of the photo\"))\n",
    "  height=int(input(\"Enter height of the photo\"))\n",
    "  if width<length or height<length :\n",
    "    print(\"UPLOAD ANOTHER\")\n",
    "    print(\"------------------------------------\")\n",
    "  elif width>49 or height>49:\n",
    "    if width==height:\n",
    "      print(\"Accepted\")\n",
    "      print(\"------------------------------------\")\n",
    "    else:\n",
    "      print(\"Crop it\")\n",
    "      print(\"------------------------------------\")"
   ]
  },
  {
   "cell_type": "markdown",
   "metadata": {},
   "source": [
    "# Question No.4"
   ]
  },
  {
   "cell_type": "code",
   "execution_count": 4,
   "metadata": {},
   "outputs": [],
   "source": [
    "x=0\n",
    "y=0"
   ]
  },
  {
   "cell_type": "code",
   "execution_count": 5,
   "metadata": {},
   "outputs": [
    {
     "name": "stdout",
     "output_type": "stream",
     "text": [
      "initial position =  0 0\n",
      "Enter your command from L,R,U,D \n",
      "Enter your command 1\n"
     ]
    }
   ],
   "source": [
    "print(\"initial position = \",x,y)\n",
    "print(\"Enter your command from L,R,U,D \")\n",
    "command=input(\"Enter your command \")\n",
    "\n",
    "if command==\"L\":\n",
    "  x=x-1\n",
    "  print(\"Updated Positions = \",x,y)\n",
    "elif command==\"R\":\n",
    "  x=x+1\n",
    "  print(\"Updated Positions = \",x,y)\n",
    "elif command==\"U\":\n",
    "  y=y+1\n",
    "  print(\"Updated Positions = \",x,y)\n",
    "elif command==\"D\":\n",
    "  y=y-1\n",
    "  print(\"Updated Positions = \",x,y)"
   ]
  },
  {
   "cell_type": "code",
   "execution_count": null,
   "metadata": {},
   "outputs": [],
   "source": []
  },
  {
   "cell_type": "code",
   "execution_count": null,
   "metadata": {},
   "outputs": [],
   "source": []
  }
 ],
 "metadata": {
  "kernelspec": {
   "display_name": "Python 3",
   "language": "python",
   "name": "python3"
  },
  "language_info": {
   "codemirror_mode": {
    "name": "ipython",
    "version": 3
   },
   "file_extension": ".py",
   "mimetype": "text/x-python",
   "name": "python",
   "nbconvert_exporter": "python",
   "pygments_lexer": "ipython3",
   "version": "3.7.6"
  }
 },
 "nbformat": 4,
 "nbformat_minor": 4
}
